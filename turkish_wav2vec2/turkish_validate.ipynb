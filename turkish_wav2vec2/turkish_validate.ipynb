{
  "nbformat": 4,
  "nbformat_minor": 0,
  "metadata": {
    "colab": {
      "provenance": [],
      "authorship_tag": "ABX9TyMdG9Y+/ZWPRS7cHPAAsljS",
      "include_colab_link": true
    },
    "kernelspec": {
      "name": "python3",
      "display_name": "Python 3"
    },
    "language_info": {
      "name": "python"
    }
  },
  "cells": [
    {
      "cell_type": "markdown",
      "metadata": {
        "id": "view-in-github",
        "colab_type": "text"
      },
      "source": [
        "<a href=\"https://colab.research.google.com/github/machiobrian/Hugging_Face/blob/master/turkish_wav2vec2/turkish_validate.ipynb\" target=\"_parent\"><img src=\"https://colab.research.google.com/assets/colab-badge.svg\" alt=\"Open In Colab\"/></a>"
      ]
    },
    {
      "cell_type": "markdown",
      "source": [
        "### validate the perfomance of the model.\n",
        "\n",
        "`https://huggingface.co/ix502iv/wa2vec2-large-xls-r-colab_turkish`"
      ],
      "metadata": {
        "id": "klkp87yAbljc"
      }
    },
    {
      "cell_type": "markdown",
      "source": [
        "\n",
        "\n",
        "*   validation dataset\n",
        "*   necessary libs\n",
        "*   huggingface_hub `read permission`\n",
        "*   repo_name (`ix502iv/wa2vec2-large-xls-r-colab_turkish`)\n",
        "*   `common_voice_test`, `input_values`, \n",
        "\n"
      ],
      "metadata": {
        "id": "JGAxvn47b6Xf"
      }
    },
    {
      "cell_type": "code",
      "source": [],
      "metadata": {
        "id": "tZz-A0Uhb3Ms"
      },
      "execution_count": null,
      "outputs": []
    }
  ]
}